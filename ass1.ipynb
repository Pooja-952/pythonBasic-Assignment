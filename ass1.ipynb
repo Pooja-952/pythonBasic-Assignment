{
 "cells": [
  {
   "cell_type": "markdown",
   "id": "6a058a17-f9a0-4f07-a8b7-2f3818c505b6",
   "metadata": {},
   "source": [
    "## 1. In the below elements which of them are values or an expression? eg:- values can be integer or string and expressions will be mathematical operators.\n",
    "*,'hello', -87.8,-,/,+,6\n",
    "\n",
    "Ans: There are a total of 4 Operators and 3 Expressions, They are:\n",
    "Operators: *,-,/,+\n",
    "Expressions: 'hello', 87.8, 6"
   ]
  },
  {
   "cell_type": "markdown",
   "id": "0c6ffe85-7140-4bea-aed0-4d6a8d9d2793",
   "metadata": {},
   "source": [
    "## 2. What is the difference between string and variable?\n",
    "Ans: A Variable is used to store of information, and a String is a type of information you would store in a Variable. A String is a group of characters or a single character usually enclosed in Double quotes \" \" or single quotes ' '"
   ]
  },
  {
   "cell_type": "markdown",
   "id": "2090b010-3e5d-4d94-8ad8-f8240bc21d02",
   "metadata": {},
   "source": [
    "## 3. Describe three different Data Types ?\n",
    "Ans: Three fundamental Data types in python are int, float, complex.\n",
    "\n",
    "int data type: We can use int data type to represent whole numbers (integral values)\n",
    "float data type: We can use float data type to represent floating point values (decimal values)\n",
    "complex data type: Complex number is represented by complex class. It is specified as (real part) + (imaginary part)j."
   ]
  },
  {
   "cell_type": "code",
   "execution_count": 1,
   "id": "331ee627-3bb8-4c58-950f-c80644798b78",
   "metadata": {},
   "outputs": [
    {
     "name": "stdout",
     "output_type": "stream",
     "text": [
      "4567 <class 'int'>\n",
      "1200.0 <class 'float'>\n",
      "(10+1.5j) <class 'complex'>\n"
     ]
    }
   ],
   "source": [
    "# Example for int data type\n",
    "int_num=4567\n",
    "print(int_num, type(int_num))\n",
    "# Example for float data type\n",
    "flo_num=1.2e3\n",
    "print(flo_num, type(flo_num))\n",
    "# Example for Complex data type\n",
    "com_num=10+1.5j\n",
    "print(com_num, type(com_num))"
   ]
  },
  {
   "cell_type": "markdown",
   "id": "2dc53a2d-c05a-4795-bb5a-9230ffe0c886",
   "metadata": {},
   "source": [
    "## 4. What is an expression made up of? What do all expressions do?\n",
    "Ans: An expression is a combination of values, variables, operators, and calls to functions. Expressions need to be evaluated. If we ask Python to print an expression, the interpreter evaluates the expression and displays the result."
   ]
  },
  {
   "cell_type": "code",
   "execution_count": 2,
   "id": "52c9416b-e367-427e-b61d-997a7d66a331",
   "metadata": {},
   "outputs": [
    {
     "data": {
      "text/plain": [
       "0"
      ]
     },
     "execution_count": 2,
     "metadata": {},
     "output_type": "execute_result"
    }
   ],
   "source": [
    "4*5+20-40 # Is an Expression, The Python Interpreter Evaluates it to 0"
   ]
  },
  {
   "cell_type": "markdown",
   "id": "15f0ab24-8ac2-4792-89c8-5a7898d42731",
   "metadata": {},
   "source": [
    "## 5.This assignment statements, like spam = 10. What is the difference between an expression and a statement?\n",
    "Ans: An expression is a combination of values, variables, and operators.When we type an expression at the prompt, the interpreter evaluates it, which means that it finds the value of the expression.\n",
    "\n",
    "eg: 4*5+20-40 is an example of a statement\n",
    "\n",
    "A statement is a unit of code that has an effect, like creating a variable or displaying a value.When we type a statement, the interpreter executes it, which means that it does whatever the statement says. In general, statements don’t have values.\n",
    "\n",
    "eg: variable declaration and assignment are statements because they do not return a value"
   ]
  },
  {
   "cell_type": "code",
   "execution_count": 3,
   "id": "2e9c2f17-d29a-4ffd-b302-5ac2af2c89ed",
   "metadata": {},
   "outputs": [
    {
     "name": "stdout",
     "output_type": "stream",
     "text": [
      "Hello World !\n"
     ]
    }
   ],
   "source": [
    "#Example:\n",
    "4*5+20-40 # Is a Expression\n",
    "courseName = 'INeuron FullStack DataScience' # Is a Statement\n",
    "print(\"Hello World !\") # Is a Expression Statement"
   ]
  },
  {
   "cell_type": "markdown",
   "id": "c9c4ce31-e4e0-4e83-8ff6-e432f04d4dfb",
   "metadata": {},
   "source": [
    "## 6.After running the following code, what does the variable bacon contain?\n",
    "bacon = 22\n",
    "bacon + 1\n",
    "\n",
    "Ans: The variable bacon is set to 22 .The expression bacon + 1 does not reassign the value in bacon (that would the case if the expression is like bacon = bacon + 1 instead of bacon + 1)"
   ]
  },
  {
   "cell_type": "code",
   "execution_count": 4,
   "id": "9222b8a1-aa99-48aa-a5f2-48a0eb93e6fa",
   "metadata": {},
   "outputs": [
    {
     "name": "stdout",
     "output_type": "stream",
     "text": [
      "22\n"
     ]
    }
   ],
   "source": [
    "# Example Case#1\n",
    "bacon=22\n",
    "bacon+1\n",
    "print(bacon)"
   ]
  },
  {
   "cell_type": "code",
   "execution_count": 5,
   "id": "5a609f63-45c6-4782-aca4-59dc0f9d4ca4",
   "metadata": {},
   "outputs": [
    {
     "name": "stdout",
     "output_type": "stream",
     "text": [
      "23\n"
     ]
    }
   ],
   "source": [
    "#Example Case#2\n",
    "bacon=22\n",
    "bacon=bacon+1 \n",
    "print(bacon)"
   ]
  },
  {
   "cell_type": "markdown",
   "id": "deb68daf-81f3-4e55-bccb-0b791d8a955f",
   "metadata": {},
   "source": [
    "## 7.What should the values of the following two terms be?\n",
    "'spam'+'spamspam'\n",
    "'spam'*3\n",
    "\n",
    "Ans: Both expressions evaluate to the string 'spamspamspam' Where as the first expression follows String Concatentation and the second expression follows String Multiplication"
   ]
  },
  {
   "cell_type": "code",
   "execution_count": 6,
   "id": "64bfe6d4-c1b7-4e81-a289-d0e10315e3e3",
   "metadata": {},
   "outputs": [
    {
     "name": "stdout",
     "output_type": "stream",
     "text": [
      "spamspamspam\n",
      "spamspamspam\n"
     ]
    }
   ],
   "source": [
    "print('spam'+'spamspam') # string concatenation\n",
    "print('spam'*3) # string multiplication"
   ]
  },
  {
   "cell_type": "markdown",
   "id": "18c0cf50-6165-47b6-a5ad-cdeccbc7daf2",
   "metadata": {},
   "source": [
    "## 8. Why is eggs a valid variable name while 100 is invalid?\n",
    "Ans: As per python,Variable names cannot begin with a number. The python rules for naming a variable are :-\n",
    "\n",
    "Variable name must start with a letter or the underscore character.\n",
    "Variable name cannot start with a number.\n",
    "Variable name can only contain alpha-numeric characters and underscores (A-z, 0-9, & _ ).\n",
    "Variable names are case-sensitive (name, INEURON and ineuron are three different variables).\n",
    "The reserved words(keywords) cannot be used naming the variable."
   ]
  },
  {
   "cell_type": "markdown",
   "id": "d94d169b-7a78-408e-bc1b-9f86c28e100f",
   "metadata": {},
   "source": [
    "## 9.What three functions can be used to get the integer,floating-point number,or string version of a value?\n",
    "Ans: The int(),float(),and str() functions will evaluate to the integer,floating-point number,string version of the value passed to them."
   ]
  },
  {
   "cell_type": "code",
   "execution_count": 7,
   "id": "62bded83-6298-4fba-913f-1fba1d85e176",
   "metadata": {},
   "outputs": [
    {
     "name": "stdout",
     "output_type": "stream",
     "text": [
      "int(10.0) ->  10\n",
      "float(10) ->  10.0\n",
      "str(10) ->  10\n"
     ]
    }
   ],
   "source": [
    "# Examples:\n",
    "print('int(10.0) -> ',int(10.0)) # int() function converts given input to int\n",
    "print('float(10) -> ',float(10)) # float() function converts given input to float\n",
    "print('str(10) -> ',str(10)) # str() function converts given input to string"
   ]
  },
  {
   "cell_type": "markdown",
   "id": "f68d5754-b0be-4c6b-aafa-e5944465d5b1",
   "metadata": {},
   "source": [
    "## 10.Why does this expression cause an error? how can you fix it?\n",
    "'I have eaten ' + 99 + 'burritos.'\n",
    "\n",
    "Ans: This cause of error is 99.because 99 is not a string. 99 must be typecasted to a string to fix this error. the correct way is:\n",
    "Input: 'I have eaten ' + str(99) + 'burritos.'\n",
    "Output: 'I have eaten 99 burritos.'"
   ]
  },
  {
   "cell_type": "code",
   "execution_count": 8,
   "id": "6db07692-b49d-4d50-931f-9f4288728438",
   "metadata": {},
   "outputs": [
    {
     "name": "stdout",
     "output_type": "stream",
     "text": [
      "I have eaten 99 burritos\n"
     ]
    }
   ],
   "source": [
    "print('I have eaten '+str(99)+' burritos')"
   ]
  },
  {
   "cell_type": "code",
   "execution_count": null,
   "id": "284c3a82-ffe2-47ca-9164-172a8eb44803",
   "metadata": {},
   "outputs": [],
   "source": []
  }
 ],
 "metadata": {
  "kernelspec": {
   "display_name": "Python 3 (ipykernel)",
   "language": "python",
   "name": "python3"
  },
  "language_info": {
   "codemirror_mode": {
    "name": "ipython",
    "version": 3
   },
   "file_extension": ".py",
   "mimetype": "text/x-python",
   "name": "python",
   "nbconvert_exporter": "python",
   "pygments_lexer": "ipython3",
   "version": "3.10.6"
  }
 },
 "nbformat": 4,
 "nbformat_minor": 5
}

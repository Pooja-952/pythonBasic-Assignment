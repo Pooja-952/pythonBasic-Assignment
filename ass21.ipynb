{
 "cells": [
  {
   "cell_type": "markdown",
   "id": "ac53c7f5-acec-462d-9af5-72659e1c9330",
   "metadata": {},
   "source": [
    "### 1. Add the current date to the text file today.txt as a string."
   ]
  },
  {
   "cell_type": "code",
   "execution_count": 1,
   "id": "272c3bea-dfa7-4b0e-9747-4b64166a3c74",
   "metadata": {},
   "outputs": [
    {
     "name": "stdout",
     "output_type": "stream",
     "text": [
      "09-06-2023\n"
     ]
    }
   ],
   "source": [
    "import datetime\n",
    "# Code to Add current date to the today.txt file\n",
    "file = open('today.txt','w')\n",
    "file.write(datetime.datetime.now().strftime(\"%d-%m-%Y\"))\n",
    "file.close()\n",
    "# Code to Read current date from today.txt file\n",
    "file = open('today.txt','r')\n",
    "print(file.read())\n",
    "file.close()"
   ]
  },
  {
   "cell_type": "markdown",
   "id": "079b30b8-ca56-4e59-8b1c-9331591f7558",
   "metadata": {},
   "source": [
    "### 2. Read the text file today.txt into the string today_string"
   ]
  },
  {
   "cell_type": "code",
   "execution_count": 2,
   "id": "f5388531-0a6c-405f-a83a-9637fb068463",
   "metadata": {},
   "outputs": [
    {
     "name": "stdout",
     "output_type": "stream",
     "text": [
      "09-06-2023\n"
     ]
    }
   ],
   "source": [
    "file = open('today.txt','r')\n",
    "today_string = file.read()\n",
    "print(today_string)"
   ]
  },
  {
   "cell_type": "markdown",
   "id": "7b707a4f-dd32-4c45-b333-332308c865aa",
   "metadata": {},
   "source": [
    "### 3. Parse the date from today_string."
   ]
  },
  {
   "cell_type": "code",
   "execution_count": 3,
   "id": "589dd8d1-ac03-4721-95c7-9a643f93af13",
   "metadata": {},
   "outputs": [
    {
     "name": "stdout",
     "output_type": "stream",
     "text": [
      "2023-06-09 00:00:00\n"
     ]
    }
   ],
   "source": [
    "from datetime import datetime\n",
    "parsed_data = datetime.strptime(today_string, '%d-%m-%Y')\n",
    "print(parsed_data)"
   ]
  },
  {
   "cell_type": "markdown",
   "id": "71915e59-4e11-43d4-8c82-05c67ac658f7",
   "metadata": {},
   "source": [
    "### 4. List the files in your current directory"
   ]
  },
  {
   "cell_type": "code",
   "execution_count": 4,
   "id": "49abdf15-1feb-4122-ad9b-2dbe31563487",
   "metadata": {},
   "outputs": [
    {
     "name": "stdout",
     "output_type": "stream",
     "text": [
      "ass8.ipynb\n",
      "ass16.ipynb\n",
      "README.md\n",
      "ass1.ipynb\n",
      "ass4.ipynb\n",
      "ass7.ipynb\n",
      "ass3.ipynb\n",
      "test.txt\n",
      "sample-code.ipynb\n",
      "ass13.ipynb\n",
      "zoo.py\n",
      "ass11.ipynb\n",
      "ass6.ipynb\n",
      "ass2.ipynb\n",
      "Untitled3.ipynb\n",
      "ass5.ipynb\n",
      "ass17.ipynb\n",
      "ass15.ipynb\n",
      "Untitled1.ipynb\n",
      "books.db\n",
      "ass10.ipynb\n",
      "ass20.ipynb\n",
      "ass9.ipynb\n",
      "Untitled.ipynb\n",
      "ass12.ipynb\n",
      "today.txt\n",
      "ass19.ipynb\n",
      "ass14.ipynb\n",
      "books.csv\n",
      "application_log.txt\n",
      "Untitled2.ipynb\n",
      "packed-refs\n",
      "HEAD\n",
      "index\n",
      "config\n",
      "description\n",
      "HEAD\n",
      "main\n",
      "HEAD\n",
      "exclude\n",
      "pack-290036e657c294196be1b61a981e44da145e2135.pack\n",
      "pack-290036e657c294196be1b61a981e44da145e2135.idx\n",
      "pre-push.sample\n",
      "prepare-commit-msg.sample\n",
      "applypatch-msg.sample\n",
      "pre-applypatch.sample\n",
      "commit-msg.sample\n",
      "pre-rebase.sample\n",
      "pre-receive.sample\n",
      "update.sample\n",
      "fsmonitor-watchman.sample\n",
      "pre-merge-commit.sample\n",
      "pre-commit.sample\n",
      "push-to-checkout.sample\n",
      "post-update.sample\n",
      "main\n",
      "HEAD\n",
      "zoo.cpython-310.pyc\n",
      "ass2-checkpoint.ipynb\n",
      "ass10-checkpoint.ipynb\n",
      "ass3-checkpoint.ipynb\n",
      "ass15-checkpoint.ipynb\n",
      "ass7-checkpoint.ipynb\n",
      "ass1-checkpoint.ipynb\n",
      "ass4-checkpoint.ipynb\n",
      "ass13-checkpoint.ipynb\n",
      "ass14-checkpoint.ipynb\n",
      "ass12-checkpoint.ipynb\n",
      "Untitled1-checkpoint.ipynb\n",
      "ass6-checkpoint.ipynb\n",
      "Untitled2-checkpoint.ipynb\n",
      "ass17-checkpoint.ipynb\n",
      "zoo-checkpoint.py\n",
      "ass11-checkpoint.ipynb\n",
      "Untitled3-checkpoint.ipynb\n",
      "ass5-checkpoint.ipynb\n",
      "ass9-checkpoint.ipynb\n",
      "ass19-checkpoint.ipynb\n",
      "Untitled-checkpoint.ipynb\n",
      "ass20-checkpoint.ipynb\n",
      "ass16-checkpoint.ipynb\n",
      "ass8-checkpoint.ipynb\n"
     ]
    }
   ],
   "source": [
    "import os\n",
    "for folders, subfolders, files in os.walk(os.getcwd()):\n",
    "    for file in files:\n",
    "        print(file)"
   ]
  },
  {
   "cell_type": "markdown",
   "id": "5e614c07-92cc-48a8-afad-39464c64dbf8",
   "metadata": {},
   "source": [
    "### 5. Create a list of all of the files in your parent directory (minimum five files should be available)."
   ]
  },
  {
   "cell_type": "code",
   "execution_count": 5,
   "id": "f1ef3c83-630d-4378-b26a-20ef80e0204a",
   "metadata": {},
   "outputs": [
    {
     "data": {
      "text/plain": [
       "['ass8.ipynb',\n",
       " 'ass16.ipynb',\n",
       " 'README.md',\n",
       " 'ass1.ipynb',\n",
       " 'ass4.ipynb',\n",
       " 'ass7.ipynb',\n",
       " 'ass3.ipynb',\n",
       " 'test.txt',\n",
       " 'sample-code.ipynb',\n",
       " 'ass13.ipynb',\n",
       " 'zoo.py',\n",
       " 'ass11.ipynb',\n",
       " 'C:\\\\Users\\\\poojaR\\\\Documents\\\\Documents',\n",
       " 'ass6.ipynb',\n",
       " '.git',\n",
       " 'ass2.ipynb',\n",
       " 'Untitled3.ipynb',\n",
       " 'ass5.ipynb',\n",
       " 'ass17.ipynb',\n",
       " 'ass15.ipynb',\n",
       " 'Untitled1.ipynb',\n",
       " '__pycache__',\n",
       " 'books.db',\n",
       " 'ass10.ipynb',\n",
       " 'ass20.ipynb',\n",
       " 'ass9.ipynb',\n",
       " 'Untitled.ipynb',\n",
       " '.ipynb_checkpoints',\n",
       " 'ass12.ipynb',\n",
       " 'today.txt',\n",
       " 'C:\\\\Users\\\\poojaR\\\\Documents\\\\NewDirectory',\n",
       " 'ass19.ipynb',\n",
       " 'ass14.ipynb',\n",
       " 'books.csv',\n",
       " 'application_log.txt',\n",
       " 'Untitled2.ipynb']"
      ]
     },
     "execution_count": 5,
     "metadata": {},
     "output_type": "execute_result"
    }
   ],
   "source": [
    "import os \n",
    "os.listdir()"
   ]
  },
  {
   "cell_type": "markdown",
   "id": "605255aa-ee9a-405e-9cf1-33b00e783411",
   "metadata": {},
   "source": [
    "### 6. Use multiprocessing to create three separate processes. Make each one wait a random number of seconds between one and five, print the current time, and then exit."
   ]
  },
  {
   "cell_type": "code",
   "execution_count": 6,
   "id": "ea078674-15b4-44a3-8425-3e090d25a3e4",
   "metadata": {},
   "outputs": [
    {
     "name": "stdout",
     "output_type": "stream",
     "text": [
      "Proc_one_Starttime -> 2023-06-09 12:17:03.656892\n",
      "Proc_two_Starttime -> 2023-06-09 12:17:03.661668\n",
      "Proc_two_Starttime -> 2023-06-09 12:17:03.668020\n",
      "Proc_one_Endtime -> 2023-06-09 12:17:04.663439\n",
      "Proc_two_Endtime -> 2023-06-09 12:17:07.672265\n",
      "Proc_two_Endtime -> 2023-06-09 12:17:07.674155\n"
     ]
    }
   ],
   "source": [
    "import multiprocessing\n",
    "import time \n",
    "import random\n",
    "import datetime\n",
    "\n",
    "def procOne():\n",
    "    print(f'Proc_one_Starttime -> {datetime.datetime.now()}')\n",
    "    time.sleep(random.randint(1,5))\n",
    "    print(f'Proc_one_Endtime -> {datetime.datetime.now()}')\n",
    "    \n",
    "def procTwo():\n",
    "    print(f'Proc_two_Starttime -> {datetime.datetime.now()}')\n",
    "    time.sleep(random.randint(1,5))\n",
    "    print(f'Proc_two_Endtime -> {datetime.datetime.now()}')\n",
    "\n",
    "def procThree():\n",
    "    print(f'Proc_two_Starttime -> {datetime.datetime.now()}')\n",
    "    time.sleep(random.randint(1,5))\n",
    "    print(f'Proc_two_Endtime -> {datetime.datetime.now()}')\n",
    "    \n",
    "if __name__ == \"__main__\":    \n",
    "    p1 = multiprocessing.Process(target=procOne)\n",
    "    p2 = multiprocessing.Process(target=procTwo)\n",
    "    p3 = multiprocessing.Process(target=procThree)\n",
    "\n",
    "    p1.start()\n",
    "    p2.start()\n",
    "    p3.start()\n",
    "\n",
    "    p1.join()\n",
    "    p2.join()\n",
    "    p3.join()"
   ]
  },
  {
   "cell_type": "markdown",
   "id": "bcedc06d-bd36-4e79-90f1-d010013a0baa",
   "metadata": {},
   "source": [
    "### 7. Create a date object of your day of birth."
   ]
  },
  {
   "cell_type": "code",
   "execution_count": 7,
   "id": "a6960f0e-9de5-44dd-9bce-ea1bf5a11b2f",
   "metadata": {},
   "outputs": [
    {
     "name": "stdout",
     "output_type": "stream",
     "text": [
      "1997-04-22 00:00:00 <class 'datetime.datetime'>\n"
     ]
    }
   ],
   "source": [
    "from datetime import datetime\n",
    "my_dob = datetime.strptime('22/04/1997','%d/%m/%Y')\n",
    "print(my_dob, type(my_dob))"
   ]
  },
  {
   "cell_type": "markdown",
   "id": "c8a3b383-f44d-439c-8395-758274051ee5",
   "metadata": {},
   "source": [
    "### 8. What day of the week was your day of birth?"
   ]
  },
  {
   "cell_type": "code",
   "execution_count": 8,
   "id": "0cae9c83-8e03-47ba-ad06-84b23cddb932",
   "metadata": {},
   "outputs": [
    {
     "data": {
      "text/plain": [
       "'Tuesday'"
      ]
     },
     "execution_count": 8,
     "metadata": {},
     "output_type": "execute_result"
    }
   ],
   "source": [
    "from datetime import datetime\n",
    "my_dob = datetime(1997,4,22)\n",
    "my_dob.strftime(\"%A\")"
   ]
  },
  {
   "cell_type": "markdown",
   "id": "3c267e57-703e-46a5-be73-3c1ae271e559",
   "metadata": {},
   "source": [
    "### 9. When will you be (or when were you) 10,000 days old?"
   ]
  },
  {
   "cell_type": "code",
   "execution_count": 10,
   "id": "18af264f-8ed2-4dc4-b746-63b382820a78",
   "metadata": {},
   "outputs": [
    {
     "data": {
      "text/plain": [
       "datetime.datetime(1969, 12, 5, 0, 0)"
      ]
     },
     "execution_count": 10,
     "metadata": {},
     "output_type": "execute_result"
    }
   ],
   "source": [
    "from datetime import datetime, timedelta\n",
    "my_dob = datetime.strptime(\"22/04/1997\",'%d/%m/%Y')\n",
    "future_date = my_dob-timedelta(10000)\n",
    "future_date"
   ]
  },
  {
   "cell_type": "code",
   "execution_count": null,
   "id": "04245f47-c2d8-4b17-8ffe-984232f691e6",
   "metadata": {},
   "outputs": [],
   "source": []
  }
 ],
 "metadata": {
  "kernelspec": {
   "display_name": "Python 3 (ipykernel)",
   "language": "python",
   "name": "python3"
  },
  "language_info": {
   "codemirror_mode": {
    "name": "ipython",
    "version": 3
   },
   "file_extension": ".py",
   "mimetype": "text/x-python",
   "name": "python",
   "nbconvert_exporter": "python",
   "pygments_lexer": "ipython3",
   "version": "3.10.6"
  }
 },
 "nbformat": 4,
 "nbformat_minor": 5
}
